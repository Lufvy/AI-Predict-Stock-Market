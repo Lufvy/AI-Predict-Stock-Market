{
 "cells": [
  {
   "cell_type": "code",
   "execution_count": null,
   "id": "7487567f",
   "metadata": {},
   "outputs": [],
   "source": [
    "print(\"XGBoost\")"
   ]
  }
 ],
 "metadata": {
  "language_info": {
   "name": "python"
  }
 },
 "nbformat": 4,
 "nbformat_minor": 5
}
